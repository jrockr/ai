{
 "cells": [
  {
   "cell_type": "markdown",
   "metadata": {},
   "source": [
    "<img src=\"http://cfs22.simplicdn.net/ice9/new_logo.svgz \"/>\n",
    "\n",
    "# Project 04: Movielens Dataset Analysis\n",
    "\n",
    "You don't need to limit yourself to the number of rows/cells provided. You can add additional rows in each section to add more lines of code.\n",
    "\n",
    "**Happy coding!**"
   ]
  },
  {
   "cell_type": "code",
   "execution_count": 18,
   "metadata": {},
   "outputs": [],
   "source": [
    "import numpy as np\n",
    "import pandas as pd\n",
    "import matplotlib.pyplot as plt\n",
    "import math\n",
    "\n",
    "from sklearn.linear_model import LinearRegression\n",
    "from sklearn.model_selection import train_test_split\n",
    "from sklearn.metrics import mean_squared_error\n",
    "from sklearn.metrics import mean_absolute_error\n",
    "\n",
    "\n",
    "from pylab import subplot\n",
    "%matplotlib inline"
   ]
  },
  {
   "cell_type": "code",
   "execution_count": 19,
   "metadata": {},
   "outputs": [
    {
     "name": "stderr",
     "output_type": "stream",
     "text": [
      "C:\\Users\\C740129\\AppData\\Local\\Continuum\\anaconda3\\lib\\site-packages\\ipykernel_launcher.py:1: ParserWarning: Falling back to the 'python' engine because the 'c' engine does not support regex separators (separators > 1 char and different from '\\s+' are interpreted as regex); you can avoid this warning by specifying engine='python'.\n",
      "  \"\"\"Entry point for launching an IPython kernel.\n"
     ]
    }
   ],
   "source": [
    "raw_movie_data = pd.read_csv(\"movies.dat\",delimiter=\"::\",names = [\"MovieID\", \"Title\", \"Genres\"])"
   ]
  },
  {
   "cell_type": "code",
   "execution_count": 20,
   "metadata": {},
   "outputs": [
    {
     "name": "stderr",
     "output_type": "stream",
     "text": [
      "C:\\Users\\C740129\\AppData\\Local\\Continuum\\anaconda3\\lib\\site-packages\\ipykernel_launcher.py:1: ParserWarning: Falling back to the 'python' engine because the 'c' engine does not support regex separators (separators > 1 char and different from '\\s+' are interpreted as regex); you can avoid this warning by specifying engine='python'.\n",
      "  \"\"\"Entry point for launching an IPython kernel.\n"
     ]
    }
   ],
   "source": [
    "raw_user_data = pd.read_csv(\"users.dat\",delimiter=\"::\",names = [\"UserID\", \"Gender\", \"Age\", \"Occupation\",\"Zip-code\"])\n"
   ]
  },
  {
   "cell_type": "code",
   "execution_count": 21,
   "metadata": {},
   "outputs": [
    {
     "name": "stderr",
     "output_type": "stream",
     "text": [
      "C:\\Users\\C740129\\AppData\\Local\\Continuum\\anaconda3\\lib\\site-packages\\ipykernel_launcher.py:1: ParserWarning: Falling back to the 'python' engine because the 'c' engine does not support regex separators (separators > 1 char and different from '\\s+' are interpreted as regex); you can avoid this warning by specifying engine='python'.\n",
      "  \"\"\"Entry point for launching an IPython kernel.\n"
     ]
    }
   ],
   "source": [
    "raw_rating_data = pd.read_csv(\"ratings.dat\",delimiter=\"::\",names = [\"UserID\", \"MovieID\", \"Rating\", \"Timestamp\"])\n"
   ]
  },
  {
   "cell_type": "code",
   "execution_count": 22,
   "metadata": {},
   "outputs": [],
   "source": [
    "#Data Wrangling \n",
    "movie_rating_data = pd.merge(raw_movie_data,raw_rating_data,on='MovieID', how='outer')\n"
   ]
  },
  {
   "cell_type": "code",
   "execution_count": 23,
   "metadata": {},
   "outputs": [
    {
     "name": "stdout",
     "output_type": "stream",
     "text": [
      "--------movie_rating_data----------\n",
      "   MovieID             Title                       Genres  UserID  Rating  \\\n",
      "0        1  Toy Story (1995)  Animation|Children's|Comedy     1.0     5.0   \n",
      "1        1  Toy Story (1995)  Animation|Children's|Comedy     6.0     4.0   \n",
      "2        1  Toy Story (1995)  Animation|Children's|Comedy     8.0     4.0   \n",
      "3        1  Toy Story (1995)  Animation|Children's|Comedy     9.0     5.0   \n",
      "4        1  Toy Story (1995)  Animation|Children's|Comedy    10.0     5.0   \n",
      "\n",
      "     Timestamp  \n",
      "0  978824268.0  \n",
      "1  978237008.0  \n",
      "2  978233496.0  \n",
      "3  978225952.0  \n",
      "4  978226474.0  \n"
     ]
    }
   ],
   "source": [
    "print(\"--------movie_rating_data----------\")\n",
    "print(movie_rating_data.head())\n"
   ]
  },
  {
   "cell_type": "code",
   "execution_count": 24,
   "metadata": {},
   "outputs": [
    {
     "name": "stdout",
     "output_type": "stream",
     "text": [
      "--------movie_rating_user_data----------\n",
      "   MovieID                                      Title  \\\n",
      "0        1                           Toy Story (1995)   \n",
      "1       48                          Pocahontas (1995)   \n",
      "2      150                           Apollo 13 (1995)   \n",
      "3      260  Star Wars: Episode IV - A New Hope (1977)   \n",
      "4      527                    Schindler's List (1993)   \n",
      "\n",
      "                                 Genres  UserID  Rating    Timestamp Gender  \\\n",
      "0           Animation|Children's|Comedy     1.0     5.0  978824268.0      F   \n",
      "1  Animation|Children's|Musical|Romance     1.0     5.0  978824351.0      F   \n",
      "2                                 Drama     1.0     5.0  978301777.0      F   \n",
      "3       Action|Adventure|Fantasy|Sci-Fi     1.0     4.0  978300760.0      F   \n",
      "4                             Drama|War     1.0     5.0  978824195.0      F   \n",
      "\n",
      "   Age  Occupation Zip-code  \n",
      "0  1.0        10.0    48067  \n",
      "1  1.0        10.0    48067  \n",
      "2  1.0        10.0    48067  \n",
      "3  1.0        10.0    48067  \n",
      "4  1.0        10.0    48067  \n"
     ]
    }
   ],
   "source": [
    "movie_rating_user_data = pd.merge(movie_rating_data,raw_user_data,on='UserID',how='outer')\n",
    "print(\"--------movie_rating_user_data----------\")\n",
    "print(movie_rating_user_data.head())\n"
   ]
  },
  {
   "cell_type": "code",
   "execution_count": 25,
   "metadata": {},
   "outputs": [
    {
     "data": {
      "text/plain": [
       "Text(0.5, 1.0, 'Age Distribution')"
      ]
     },
     "execution_count": 25,
     "metadata": {},
     "output_type": "execute_result"
    },
    {
     "data": {
      "image/png": "[encoded data removed]",
      "text/plain": [
       "<Figure size 432x288 with 1 Axes>"
      ]
     },
     "metadata": {
      "needs_background": "light"
     },
     "output_type": "display_data"
    }
   ],
   "source": [
    "#Visualize user Age distribution\n",
    "user_age = raw_user_data['Age']\n",
    "\n",
    "subplot(2,2,1)\n",
    "plt.hist(user_age,color = 'blue', edgecolor = 'black',bins=[1,18,25,35,45,50,56])\n",
    "plt.xticks([1,18,25,35,45,50,56])\n",
    "plt.xlim([1,56])\n",
    "plt.xlabel('Age')\n",
    "plt.ylabel('Counts')\n",
    "plt.title('Age Distribution')\n"
   ]
  },
  {
   "cell_type": "code",
   "execution_count": 26,
   "metadata": {},
   "outputs": [
    {
     "data": {
      "text/plain": [
       "Text(0.5, 1.0, 'Rating Distribution')"
      ]
     },
     "execution_count": 26,
     "metadata": {},
     "output_type": "execute_result"
    },
    {
     "data": {
      "image/png": "[encoded data removed]",
      "text/plain": [
       "<Figure size 432x288 with 1 Axes>"
      ]
     },
     "metadata": {
      "needs_background": "light"
     },
     "output_type": "display_data"
    }
   ],
   "source": [
    "# Visualize overall rating by users\n",
    "\n",
    "rating_data = raw_rating_data['Rating']\n",
    "subplot(2,2,2)\n",
    "plt.hist(rating_data,color = 'yellow', edgecolor = 'black',bins=5)\n",
    "plt.xticks([1,2,3,4,5])\n",
    "plt.xlim([1,5])\n",
    "plt.xlabel('Rating')\n",
    "plt.ylabel('Counts')\n",
    "plt.title('Rating Distribution')"
   ]
  },
  {
   "cell_type": "code",
   "execution_count": 27,
   "metadata": {},
   "outputs": [
    {
     "name": "stdout",
     "output_type": "stream",
     "text": [
      "   MovieID             Title                       Genres  UserID  Rating  \\\n",
      "0        1  Toy Story (1995)  Animation|Children's|Comedy     1.0     5.0   \n",
      "1        1  Toy Story (1995)  Animation|Children's|Comedy     6.0     4.0   \n",
      "2        1  Toy Story (1995)  Animation|Children's|Comedy     8.0     4.0   \n",
      "3        1  Toy Story (1995)  Animation|Children's|Comedy     9.0     5.0   \n",
      "4        1  Toy Story (1995)  Animation|Children's|Comedy    10.0     5.0   \n",
      "\n",
      "     Timestamp  \n",
      "0  978824268.0  \n",
      "1  978237008.0  \n",
      "2  978233496.0  \n",
      "3  978225952.0  \n",
      "4  978226474.0  \n"
     ]
    },
    {
     "data": {
      "text/plain": [
       "Text(0.5, 1.0, 'Toy Story (1995) Rating Distribution')"
      ]
     },
     "execution_count": 27,
     "metadata": {},
     "output_type": "execute_result"
    },
    {
     "data": {
      "image/png": "[encoded data removed]",
      "text/plain": [
       "<Figure size 432x288 with 1 Axes>"
      ]
     },
     "metadata": {
      "needs_background": "light"
     },
     "output_type": "display_data"
    }
   ],
   "source": [
    "# Find and visualize the user rating of the movie “Toy Story”\n",
    "\n",
    "toy_story_rating_data = movie_rating_data.query('Title==\"Toy Story (1995)\"')\n",
    "print(toy_story_rating_data.head())\n",
    "subplot(2,2,3)\n",
    "plt.hist(toy_story_rating_data['Rating'],color = 'red', edgecolor = 'black',bins=5)\n",
    "plt.xticks([1,2,3,4,5])\n",
    "plt.xlim([1,5])\n",
    "plt.xlabel('Rating')\n",
    "plt.ylabel('Counts')\n",
    "plt.title('Toy Story (1995) Rating Distribution')"
   ]
  },
  {
   "cell_type": "code",
   "execution_count": 28,
   "metadata": {},
   "outputs": [
    {
     "data": {
      "image/png": "[encoded data removed]",
      "text/plain": [
       "<Figure size 432x288 with 1 Axes>"
      ]
     },
     "metadata": {
      "needs_background": "light"
     },
     "output_type": "display_data"
    }
   ],
   "source": [
    "# Find and visualize the viewership of the movie “Toy Story” by age group\n",
    "toy_st_movie_rating_user_grp_data = movie_rating_user_data.query('Title==\"Toy Story (1995)\"')\n",
    "#print(\"************ toy_st_movie_rating_user_grp_data ************\")\n",
    "\n",
    "\n",
    "subplot(2,2,4)\n",
    "#toy_st_movie_rating_user_grp_data.columns.droplevel(level=0)\n",
    "#toy_st_movie_rating_user_grp_data.rename(columns = ['Age','Count'],inplace=True)\n",
    "#print(toy_st_movie_rating_user_grp_data)\n",
    "plt.hist(toy_st_movie_rating_user_grp_data['Age'], edgecolor = 'black',bins=[1,18,25,35,45,50,56])\n",
    "plt.xticks([1,18,25,35,45,50,56])\n",
    "plt.xlim([1,56])\n",
    "plt.xlabel('Rating')\n",
    "plt.ylabel('Counts')\n",
    "plt.title('Toy Story (1995) Rating Group By Age Distribution')\n",
    "\n",
    "plt.show()\n"
   ]
  },
  {
   "cell_type": "code",
   "execution_count": 29,
   "metadata": {},
   "outputs": [
    {
     "name": "stdout",
     "output_type": "stream",
     "text": [
      "******* top_25_movie_data *************\n",
      "                                               Title  Rating  count\n",
      "0                             $1,000,000 Duck (1971)     5.0      4\n",
      "1                               'Night Mother (1986)     5.0     13\n",
      "2                          'Til There Was You (1997)     5.0      2\n",
      "3                                 'burbs, The (1989)     5.0     23\n",
      "4                      ...And Justice for All (1979)     5.0     38\n",
      "5                  10 Things I Hate About You (1999)     5.0     84\n",
      "6                              101 Dalmatians (1961)     5.0     98\n",
      "7                              101 Dalmatians (1996)     5.0     30\n",
      "8                                12 Angry Men (1957)     5.0    295\n",
      "9                           13th Warrior, The (1999)     5.0     73\n",
      "10                                        187 (1997)     5.0      3\n",
      "11                       2 Days in the Valley (1996)     5.0     18\n",
      "12                                   20 Dates (1998)     5.0      8\n",
      "13               20,000 Leagues Under the Sea (1954)     5.0    105\n",
      "14                             200 Cigarettes (1999)     5.0     12\n",
      "15                      2001: A Space Odyssey (1968)     5.0    757\n",
      "16                                       2010 (1984)     5.0     51\n",
      "17                    24 7: Twenty Four Seven (1997)     5.0      2\n",
      "18                                    28 Days (2000)     5.0     19\n",
      "19                              39 Steps, The (1935)     5.0     87\n",
      "20    400 Blows, The (Les Quatre cents coups) (1959)     5.0     98\n",
      "21                                      42 Up (1998)     5.0     40\n",
      "22                                 52 Pick-Up (1986)     5.0     11\n",
      "23                                         54 (1998)     5.0     12\n",
      "24                  7th Voyage of Sinbad, The (1958)     5.0     42\n",
      "25                                      8 1/2 (1963)     5.0     94\n",
      "26                                8 1/2 Women (1999)     5.0      3\n",
      "27                    8 Heads in a Duffel Bag (1997)     5.0      3\n",
      "28                                  8 Seconds (1994)     5.0     12\n",
      "29                                        8MM (1999)     5.0     16\n",
      "...                                              ...     ...    ...\n",
      "3202          World of Apu, The (Apur Sansar) (1959)     5.0     36\n",
      "3203                           Wrong Man, The (1956)     5.0     13\n",
      "3204                      Wrong Trousers, The (1993)     5.0    532\n",
      "3205                       Wrongfully Accused (1998)     5.0      8\n",
      "3206                               Wyatt Earp (1994)     5.0     17\n",
      "3207           X-Files: Fight the Future, The (1998)     5.0    117\n",
      "3208                                    X-Men (2000)     5.0    345\n",
      "3209    Xiu Xiu: The Sent-Down Girl (Tian yu) (1998)     5.0     13\n",
      "3210                               Yards, The (1999)     5.0     10\n",
      "3211                 Year My Voice Broke, The (1987)     5.0      4\n",
      "3212               Year of Living Dangerously (1982)     5.0     98\n",
      "3213                        Year of the Horse (1997)     5.0      1\n",
      "3214                         Yellow Submarine (1968)     5.0    102\n",
      "3215                                  Yojimbo (1961)     5.0    121\n",
      "3216               You Can't Take It With You (1938)     5.0     23\n",
      "3217                             You So Crazy (1994)     5.0      2\n",
      "3218                          You've Got Mail (1998)     5.0    119\n",
      "3219                    Young Doctors in Love (1982)     5.0      1\n",
      "3220                       Young Frankenstein (1974)     5.0    566\n",
      "3221                               Young Guns (1988)     5.0     73\n",
      "3222                            Young Guns II (1990)     5.0     22\n",
      "3223           Young Poisoner's Handbook, The (1995)     5.0     10\n",
      "3224                    Young Sherlock Holmes (1985)     5.0     33\n",
      "3225                       Young and Innocent (1937)     5.0      2\n",
      "3226               Your Friends and Neighbors (1998)     5.0     17\n",
      "3227                                Zachariah (1971)     5.0      1\n",
      "3228                     Zed & Two Noughts, A (1985)     5.0      3\n",
      "3229                              Zero Effect (1998)     5.0     82\n",
      "3230                         Zeus and Roxanne (1997)     5.0      1\n",
      "3231                                 eXistenZ (1999)     5.0     55\n",
      "\n",
      "[3232 rows x 3 columns]\n",
      "                                                  Title  Rating  count\n",
      "114                              American Beauty (1999)     5.0   1963\n",
      "2761          Star Wars: Episode IV - A New Hope (1977)     5.0   1826\n",
      "2379                     Raiders of the Lost Ark (1981)     5.0   1500\n",
      "2762  Star Wars: Episode V - The Empire Strikes Back...     5.0   1483\n",
      "1192                              Godfather, The (1972)     5.0   1475\n",
      "2546                            Schindler's List (1993)     5.0   1475\n",
      "2606                   Shawshank Redemption, The (1994)     5.0   1457\n",
      "1847                                 Matrix, The (1999)     5.0   1430\n",
      "2539                         Saving Private Ryan (1998)     5.0   1405\n",
      "2643                            Sixth Sense, The (1999)     5.0   1385\n",
      "2624                   Silence of the Lambs, The (1991)     5.0   1350\n",
      "983                                        Fargo (1996)     5.0   1278\n",
      "448                                   Braveheart (1995)     5.0   1206\n",
      "2354                                Pulp Fiction (1994)     5.0   1193\n",
      "2332                         Princess Bride, The (1987)     5.0   1186\n",
      "3054                         Usual Suspects, The (1995)     5.0   1144\n",
      "2763  Star Wars: Episode VI - Return of the Jedi (1983)     5.0   1028\n",
      "1635                           L.A. Confidential (1997)     5.0   1009\n",
      "294                         Being John Malkovich (1999)     5.0   1007\n",
      "2597                         Shakespeare in Love (1998)     5.0    987\n",
      "530                                   Casablanca (1942)     5.0    984\n",
      "1075                                Forrest Gump (1994)     5.0    945\n",
      "2876                  Terminator 2: Judgment Day (1991)     5.0    942\n",
      "1193                     Godfather: Part II, The (1974)     5.0    941\n",
      "2153             One Flew Over the Cuckoo's Nest (1975)     5.0    937\n"
     ]
    },
    {
     "data": {
      "text/plain": [
       "Text(0.5, 1.0, 'The top 25 movies by viewership rating')"
      ]
     },
     "execution_count": 29,
     "metadata": {},
     "output_type": "execute_result"
    },
    {
     "data": {
      "image/png": "[encoded data removed]",
      "text/plain": [
       "<Figure size 432x288 with 1 Axes>"
      ]
     },
     "metadata": {
      "needs_background": "light"
     },
     "output_type": "display_data"
    }
   ],
   "source": [
    "# Find and visualize the top 25 movies by viewership rating\n",
    "subplot(2,1,1)\n",
    "#top_25_movie_data = movie_rating_data.query('Rating==5').groupby([\"Title\",\"Rating\"]).agg({\"Rating\": \"count\"})\n",
    "top_25_movie_data = movie_rating_data.query('Rating==5').groupby([\"Title\",\"Rating\"]).size().reset_index(name='count')\n",
    "print(\"******* top_25_movie_data *************\")\n",
    "print(top_25_movie_data)\n",
    "top_25_movie = pd.DataFrame(top_25_movie_data.sort_values(by=['count'], ascending=False).head(25))\n",
    "print(top_25_movie)\n",
    "#y=top_25_movie['Title']\n",
    "#x=top_25_movie['Rating']\n",
    "\n",
    "plt.barh(top_25_movie['Title'],top_25_movie['count'])\n",
    "plt.title('The top 25 movies by viewership rating')"
   ]
  },
  {
   "cell_type": "code",
   "execution_count": 30,
   "metadata": {},
   "outputs": [
    {
     "name": "stdout",
     "output_type": "stream",
     "text": [
      "        MovieID                                           Title  \\\n",
      "95267       350                              Client, The (1994)   \n",
      "200572      800                                Lone Star (1996)   \n",
      "270398     1092                           Basic Instinct (1992)   \n",
      "274632     1097               E.T. the Extra-Terrestrial (1982)   \n",
      "349405     1258                             Shining, The (1980)   \n",
      "360454     1270                       Back to the Future (1985)   \n",
      "448383     1589                                 Cop Land (1997)   \n",
      "457283     1617                        L.A. Confidential (1997)   \n",
      "459925     1625                                Game, The (1997)   \n",
      "464564     1644          I Know What You Did Last Summer (1997)   \n",
      "465160     1645                    Devil's Advocate, The (1997)   \n",
      "480755     1711  Midnight in the Garden of Good and Evil (1997)   \n",
      "493339     1783                                 Palmetto (1998)   \n",
      "497035     1805                              Wild Things (1998)   \n",
      "507112     1892                        Perfect Murder, A (1998)   \n",
      "631991     2338    I Still Know What You Did Last Summer (1998)   \n",
      "646072     2389                                   Psycho (1998)   \n",
      "732255     2713                              Lake Placid (1999)   \n",
      "851461     3176                 Talented Mr. Ripley, The (1999)   \n",
      "889785     3386                                      JFK (1991)   \n",
      "\n",
      "                                  Genres  UserID  Rating    Timestamp  \n",
      "95267             Drama|Mystery|Thriller  2696.0     3.0  973308886.0  \n",
      "200572                     Drama|Mystery  2696.0     5.0  973308842.0  \n",
      "270398                  Mystery|Thriller  2696.0     4.0  973308886.0  \n",
      "274632   Children's|Drama|Fantasy|Sci-Fi  2696.0     3.0  973308690.0  \n",
      "349405                            Horror  2696.0     4.0  973308710.0  \n",
      "360454                     Comedy|Sci-Fi  2696.0     2.0  973308676.0  \n",
      "448383               Crime|Drama|Mystery  2696.0     3.0  973308865.0  \n",
      "457283  Crime|Film-Noir|Mystery|Thriller  2696.0     4.0  973308842.0  \n",
      "459925                  Mystery|Thriller  2696.0     4.0  973308842.0  \n",
      "464564           Horror|Mystery|Thriller  2696.0     2.0  973308920.0  \n",
      "465160     Crime|Horror|Mystery|Thriller  2696.0     4.0  973308904.0  \n",
      "480755        Comedy|Crime|Drama|Mystery  2696.0     4.0  973308904.0  \n",
      "493339        Film-Noir|Mystery|Thriller  2696.0     4.0  973308865.0  \n",
      "497035      Crime|Drama|Mystery|Thriller  2696.0     4.0  973308886.0  \n",
      "507112                  Mystery|Thriller  2696.0     4.0  973308904.0  \n",
      "631991           Horror|Mystery|Thriller  2696.0     2.0  973308920.0  \n",
      "646072             Crime|Horror|Thriller  2696.0     4.0  973308710.0  \n",
      "732255                   Horror|Thriller  2696.0     1.0  973308710.0  \n",
      "851461            Drama|Mystery|Thriller  2696.0     4.0  973308865.0  \n",
      "889785                     Drama|Mystery  2696.0     1.0  973308842.0  \n"
     ]
    },
    {
     "data": {
      "image/png": "[encoded data removed]",
      "text/plain": [
       "<Figure size 432x288 with 1 Axes>"
      ]
     },
     "metadata": {
      "needs_background": "light"
     },
     "output_type": "display_data"
    }
   ],
   "source": [
    "# •\tFind the rating for a particular user of user id = 2696\n",
    "subplot(2,1,2)\n",
    "rating_by_2696 = movie_rating_data.query('UserID==2696')\n",
    "print(rating_by_2696)\n",
    "\n",
    "plt.barh(rating_by_2696['Title'],rating_by_2696['Rating'])\n",
    "plt.title('Visualize  rating for a particular user of user id = 2696')\n",
    "\n",
    "plt.show()"
   ]
  },
  {
   "cell_type": "code",
   "execution_count": 31,
   "metadata": {},
   "outputs": [
    {
     "name": "stdout",
     "output_type": "stream",
     "text": [
      "****ML movie data 500 *******\n",
      "     MovieID  Rating   Age  Occupation\n",
      "0          1     5.0   1.0        10.0\n",
      "1         48     5.0   1.0        10.0\n",
      "2        150     5.0   1.0        10.0\n",
      "3        260     4.0   1.0        10.0\n",
      "4        527     5.0   1.0        10.0\n",
      "5        531     4.0   1.0        10.0\n",
      "6        588     4.0   1.0        10.0\n",
      "7        594     4.0   1.0        10.0\n",
      "8        595     5.0   1.0        10.0\n",
      "9        608     4.0   1.0        10.0\n",
      "10       661     3.0   1.0        10.0\n",
      "11       720     3.0   1.0        10.0\n",
      "12       745     3.0   1.0        10.0\n",
      "13       783     4.0   1.0        10.0\n",
      "14       914     3.0   1.0        10.0\n",
      "15       919     4.0   1.0        10.0\n",
      "16       938     4.0   1.0        10.0\n",
      "17      1022     5.0   1.0        10.0\n",
      "18      1028     5.0   1.0        10.0\n",
      "19      1029     5.0   1.0        10.0\n",
      "20      1035     5.0   1.0        10.0\n",
      "21      1097     4.0   1.0        10.0\n",
      "22      1193     5.0   1.0        10.0\n",
      "23      1197     3.0   1.0        10.0\n",
      "24      1207     4.0   1.0        10.0\n",
      "25      1246     4.0   1.0        10.0\n",
      "26      1270     5.0   1.0        10.0\n",
      "27      1287     5.0   1.0        10.0\n",
      "28      1545     4.0   1.0        10.0\n",
      "29      1566     4.0   1.0        10.0\n",
      "..       ...     ...   ...         ...\n",
      "470     1025     4.0  35.0         1.0\n",
      "471     1028     5.0  35.0         1.0\n",
      "472     1030     3.0  35.0         1.0\n",
      "473     1031     4.0  35.0         1.0\n",
      "474     1032     4.0  35.0         1.0\n",
      "475     1035     5.0  35.0         1.0\n",
      "476     1042     5.0  35.0         1.0\n",
      "477     1059     5.0  35.0         1.0\n",
      "478     1073     5.0  35.0         1.0\n",
      "479     1079     5.0  35.0         1.0\n",
      "480     1080     5.0  35.0         1.0\n",
      "481     1084     4.0  35.0         1.0\n",
      "482     1088     5.0  35.0         1.0\n",
      "483     1091     3.0  35.0         1.0\n",
      "484     1097     5.0  35.0         1.0\n",
      "485     1101     4.0  35.0         1.0\n",
      "486     1104     4.0  35.0         1.0\n",
      "487     1124     5.0  35.0         1.0\n",
      "488     1125     4.0  35.0         1.0\n",
      "489     1127     4.0  35.0         1.0\n",
      "490     1129     4.0  35.0         1.0\n",
      "491     1135     4.0  35.0         1.0\n",
      "492     1136     4.0  35.0         1.0\n",
      "493     1148     5.0  35.0         1.0\n",
      "494     1196     5.0  35.0         1.0\n",
      "495     1197     5.0  35.0         1.0\n",
      "496     1198     5.0  35.0         1.0\n",
      "497     1200     5.0  35.0         1.0\n",
      "498     1201     2.0  35.0         1.0\n",
      "499     1203     3.0  35.0         1.0\n",
      "\n",
      "[500 rows x 4 columns]\n",
      "The coefficient for MovieID is -0.00012679445816298862\n",
      "The coefficient for Age is -0.0044441641347272255\n",
      "The coefficient for Occupation is -0.02230769587710628\n",
      "The intercept for our model is 4.497393896404407\n",
      "The score for our model is 0.021344906845947254\n",
      "***** Actual*****\n",
      "     Rating\n",
      "304     3.0\n",
      "340     4.0\n",
      "47      5.0\n",
      "67      4.0\n",
      "479     5.0\n",
      "485     4.0\n",
      "310     4.0\n",
      "31      5.0\n",
      "249     3.0\n",
      "90      5.0\n",
      "322     4.0\n",
      "168     5.0\n",
      "119     3.0\n",
      "66      3.0\n",
      "305     4.0\n",
      "189     4.0\n",
      "434     5.0\n",
      "289     4.0\n",
      "142     5.0\n",
      "146     4.0\n",
      "293     2.0\n",
      "312     3.0\n",
      "311     3.0\n",
      "492     4.0\n",
      "65      4.0\n",
      "374     4.0\n",
      "34      4.0\n",
      "342     4.0\n",
      "173     5.0\n",
      "201     3.0\n",
      "..      ...\n",
      "323     5.0\n",
      "324     4.0\n",
      "147     4.0\n",
      "29      4.0\n",
      "107     5.0\n",
      "463     3.0\n",
      "495     5.0\n",
      "425     4.0\n",
      "250     3.0\n",
      "135     4.0\n",
      "260     4.0\n",
      "117     3.0\n",
      "187     3.0\n",
      "415     3.0\n",
      "165     3.0\n",
      "223     5.0\n",
      "444     3.0\n",
      "285     5.0\n",
      "491     4.0\n",
      "476     5.0\n",
      "477     5.0\n",
      "480     5.0\n",
      "417     5.0\n",
      "6       4.0\n",
      "422     5.0\n",
      "11      3.0\n",
      "192     5.0\n",
      "92      4.0\n",
      "221     3.0\n",
      "110     3.0\n",
      "\n",
      "[100 rows x 1 columns]\n",
      "**** Predicted *****\n",
      "[[3.8507214 ]\n",
      " [3.66572828]\n",
      " [3.91434111]\n",
      " [3.99897372]\n",
      " [4.18272924]\n",
      " [4.17993976]\n",
      " [3.83487209]\n",
      " [4.03707815]\n",
      " [3.70651545]\n",
      " [3.82754762]\n",
      " [3.79100121]\n",
      " [4.04391551]\n",
      " [3.60755923]\n",
      " [3.9996077 ]\n",
      " [3.84666397]\n",
      " [3.9182622 ]\n",
      " [4.22064078]\n",
      " [3.91259709]\n",
      " [4.09792995]\n",
      " [4.08487012]\n",
      " [3.89788893]\n",
      " [3.82371418]\n",
      " [3.83043428]\n",
      " [4.17550195]\n",
      " [3.99986129]\n",
      " [4.31345432]\n",
      " [4.02110205]\n",
      " [3.6446804 ]\n",
      " [4.00346807]\n",
      " [3.90165212]\n",
      " [3.95820245]\n",
      " [3.84133861]\n",
      " [3.7763792 ]\n",
      " [4.20491827]\n",
      " [3.62591482]\n",
      " [4.11644194]\n",
      " [3.95279094]\n",
      " [4.20305209]\n",
      " [4.27440163]\n",
      " [3.54768264]\n",
      " [3.76462796]\n",
      " [4.22533217]\n",
      " [4.19021011]\n",
      " [3.83102761]\n",
      " [3.7499198 ]\n",
      " [3.75841503]\n",
      " [3.89040806]\n",
      " [4.2452389 ]\n",
      " [4.27262651]\n",
      " [3.71913836]\n",
      " [4.05177676]\n",
      " [3.82975967]\n",
      " [4.20254492]\n",
      " [4.24485852]\n",
      " [4.20301635]\n",
      " [4.02661492]\n",
      " [3.71619248]\n",
      " [3.85363767]\n",
      " [4.14028884]\n",
      " [3.60410618]\n",
      " [3.6080368 ]\n",
      " [3.87585631]\n",
      " [3.68927141]\n",
      " [3.52612758]\n",
      " [4.29126529]\n",
      " [3.81027396]\n",
      " [4.28467198]\n",
      " [3.67752017]\n",
      " [3.93225023]\n",
      " [4.05393227]\n",
      " [3.7888457 ]\n",
      " [3.78174521]\n",
      " [4.08448973]\n",
      " [4.07131265]\n",
      " [3.64230091]\n",
      " [4.19122446]\n",
      " [4.16776749]\n",
      " [4.24384416]\n",
      " [3.70626186]\n",
      " [4.10934145]\n",
      " [3.67722593]\n",
      " [3.61668843]\n",
      " [3.92992729]\n",
      " [4.24967671]\n",
      " [4.05038202]\n",
      " [3.81086729]\n",
      " [4.20377712]\n",
      " [3.93186985]\n",
      " [4.17562875]\n",
      " [4.18742063]\n",
      " [4.18526512]\n",
      " [4.18260244]\n",
      " [4.24511211]\n",
      " [4.19531763]\n",
      " [4.24422455]\n",
      " [4.17858076]\n",
      " [3.91078133]\n",
      " [3.82006674]\n",
      " [3.82240559]\n",
      " [3.62759276]]\n",
      "Mean Absolute Error: 0.7073522414107744\n",
      "Mean Squared Error: 0.7221495932383758\n",
      "Root Mean Squared Error: 0.8497938533776153\n"
     ]
    }
   ],
   "source": [
    "#\tPerform machine learning on first 500 extracted records\n",
    "ml_movie_data = movie_rating_user_data.head(500)\n",
    "ml_movie_data = ml_movie_data.drop('Title', axis=1).drop('Genres', axis=1).drop('Timestamp', axis=1).drop('Gender',axis=1).drop('Zip-code',axis=1).drop('UserID',axis=1)\n",
    "print(\"****ML movie data 500 *******\")\n",
    "print(ml_movie_data)\n",
    "\n",
    "X = ml_movie_data.drop('Rating',axis = 1)\n",
    "Y = ml_movie_data[['Rating']]\n",
    "\n",
    "X_train, X_test, y_train, y_test = train_test_split(X, Y, test_size=0.20, random_state=1)\n",
    "\n",
    "regression_model = LinearRegression(copy_X=True, fit_intercept=True, n_jobs=1, normalize=False)\n",
    "regression_model.fit(X_train, y_train)\n",
    "\n",
    "for idx, col_name in enumerate(X_train.columns):\n",
    "    print(\"The coefficient for {} is {}\".format(col_name, regression_model.coef_[0][idx]))\n",
    "\n",
    "intercept = regression_model.intercept_[0]\n",
    "print(\"The intercept for our model is {}\".format(intercept))\n",
    "\n",
    "ml_score = regression_model.score(X_test, y_test)\n",
    "print(\"The score for our model is {}\".format(ml_score))\n",
    "\n",
    "y_predict = regression_model.predict(X_test)\n",
    "\n",
    "\n",
    "\n",
    "print(\"***** Actual*****\")\n",
    "print(y_test)\n",
    "print(\"**** Predicted *****\")\n",
    "print(y_predict)\n",
    "\n",
    "print('Mean Absolute Error:', mean_absolute_error(y_test, y_predict))  \n",
    "print('Mean Squared Error:', mean_squared_error(y_test, y_predict))  \n",
    "print('Root Mean Squared Error:', np.sqrt(mean_squared_error(y_test, y_predict))) "
   ]
  },
  {
   "cell_type": "code",
   "execution_count": 32,
   "metadata": {},
   "outputs": [
    {
     "data": {
      "image/png": "[encoded data removed]",
      "text/plain": [
       "<Figure size 432x288 with 4 Axes>"
      ]
     },
     "metadata": {
      "needs_background": "light"
     },
     "output_type": "display_data"
    }
   ],
   "source": [
    "# •\tCreate a histogram for movie, age, and occupation\n",
    "ml_movie_data.hist()\n",
    "plt.show()\n"
   ]
  },
  {
   "cell_type": "code",
   "execution_count": null,
   "metadata": {},
   "outputs": [],
   "source": []
  },
  {
   "cell_type": "code",
   "execution_count": null,
   "metadata": {
    "collapsed": true
   },
   "outputs": [],
   "source": []
  },
  {
   "cell_type": "code",
   "execution_count": null,
   "metadata": {
    "collapsed": true
   },
   "outputs": [],
   "source": []
  },
  {
   "cell_type": "code",
   "execution_count": null,
   "metadata": {
    "collapsed": true
   },
   "outputs": [],
   "source": []
  },
  {
   "cell_type": "code",
   "execution_count": null,
   "metadata": {
    "collapsed": true
   },
   "outputs": [],
   "source": []
  },
  {
   "cell_type": "code",
   "execution_count": null,
   "metadata": {
    "collapsed": true
   },
   "outputs": [],
   "source": []
  }
 ],
 "metadata": {
  "kernelspec": {
   "display_name": "Python 3",
   "language": "python",
   "name": "python3"
  },
  "language_info": {
   "codemirror_mode": {
    "name": "ipython",
    "version": 3
   },
   "file_extension": ".py",
   "mimetype": "text/x-python",
   "name": "python",
   "nbconvert_exporter": "python",
   "pygments_lexer": "ipython3",
   "version": "3.7.1"
  }
 },
 "nbformat": 4,
 "nbformat_minor": 1
}
